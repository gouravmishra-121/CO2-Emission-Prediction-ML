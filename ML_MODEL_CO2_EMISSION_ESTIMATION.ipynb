{
 "cells": [
  {
   "cell_type": "code",
   "execution_count": null,
   "id": "99361092",
   "metadata": {
    "tags": []
   },
   "outputs": [],
   "source": [
    "#This code imports the necessary libraries for data visualization and manipulation in Python\n",
    "import matplotlib.pyplot as plt\n",
    "import pandas as pd\n",
    "import pylab as pl\n",
    "import numpy as np\n",
    "%matplotlib inline\n"
   ]
  },
  {
   "cell_type": "code",
   "execution_count": null,
   "id": "8a9790f5-69cf-498b-a2d4-a0bfb7e43f3b",
   "metadata": {
    "tags": []
   },
   "outputs": [],
   "source": [
    "#This code snippet reads a CSV file located at the specified file_path into a pandas DataFrame df using the pd.read_csv function.\n",
    "file_path = 'C:/Users/Gourav Mishra/Downloads/Data-Analytics-Projects-master/Data-Analytics-Projects-master/CO2 Emissions/Simple Multivariate Linear Regression/FuelConsumption.csv'\n",
    "df = pd.read_csv(file_path)"
   ]
  },
  {
   "cell_type": "code",
   "execution_count": null,
   "id": "f5cbe91d-2f8b-41e9-888e-c8f2a4735dae",
   "metadata": {
    "tags": []
   },
   "outputs": [],
   "source": [
    "#The function is used to display the first few rows of the DataFrame df\n",
    "df.head()"
   ]
  },
  {
   "cell_type": "code",
   "execution_count": null,
   "id": "be4413a6-71f8-4809-b901-9d7de0e2aaa8",
   "metadata": {
    "tags": []
   },
   "outputs": [],
   "source": [
    "#Creating a New dataframe with all necceasary variables\n",
    "cdf = df[['ENGINESIZE','CYLINDERS','FUELCONSUMPTION_CITY','FUELCONSUMPTION_HWY','FUELCONSUMPTION_COMB','CO2EMISSIONS']]\n",
    "cdf.head(9)\n"
   ]
  },
  {
   "cell_type": "code",
   "execution_count": null,
   "id": "ff099433-1622-4fd3-8be6-a5fe8be31550",
   "metadata": {},
   "outputs": [],
   "source": [
    "#This code is important in machine learning for creating a train/test split. It uses a random mask to divide the dataset into a training set (train) and a testing set (test)\n",
    "msk = np.random.rand(len(df)) < 0.8\n",
    "train = cdf[msk]\n",
    "test = cdf[~msk]\n"
   ]
  },
  {
   "cell_type": "code",
   "execution_count": null,
   "id": "eef737ca-d505-47b5-9a6e-c997a2a0cf06",
   "metadata": {
    "tags": []
   },
   "outputs": [],
   "source": [
    "#Using Linear regression Model to fit our feature\n",
    "from sklearn import linear_model\n",
    "regr = linear_model.LinearRegression()\n",
    "x = np.asanyarray(train[['ENGINESIZE','CYLINDERS','FUELCONSUMPTION_CITY','FUELCONSUMPTION_HWY']])\n",
    "y = np.asanyarray(train[['CO2EMISSIONS']])\n",
    "regr.fit (x, y)"
   ]
  },
  {
   "cell_type": "code",
   "execution_count": null,
   "id": "77687486-4ba6-4b2f-ba29-7d07f3a71b1a",
   "metadata": {
    "tags": []
   },
   "outputs": [],
   "source": [
    "#The coefficients for a Linear Regression model represent the weights assigned to each feature in the model.\n",
    "print ('Coefficients: ', regr.coef_)"
   ]
  },
  {
   "cell_type": "code",
   "execution_count": null,
   "id": "cd65184c-56be-4438-aed5-7c0a8bf17c88",
   "metadata": {
    "tags": []
   },
   "outputs": [],
   "source": [
    "# This code Snippet is used test our model and predict target variable\n",
    "y_hat= regr.predict(test[['ENGINESIZE','CYLINDERS','FUELCONSUMPTION_CITY','FUELCONSUMPTION_HWY']])\n",
    "x = np.asanyarray(test[['ENGINESIZE','CYLINDERS','FUELCONSUMPTION_CITY','FUELCONSUMPTION_HWY']])\n",
    "y = np.asanyarray(test[['CO2EMISSIONS']])"
   ]
  },
  {
   "cell_type": "code",
   "execution_count": null,
   "id": "e21a7c0b-a6de-40d5-9974-6a667c3d9615",
   "metadata": {
    "tags": []
   },
   "outputs": [],
   "source": [
    "#The residual sum of squares (RSS) calculates the degree of variance in a regression model. It estimates the level of error in the model’s prediction.\n",
    "print(\"Residual sum of squares: %.2f\"\n",
    "      % np.mean((y_hat - y) ** 2))"
   ]
  },
  {
   "cell_type": "code",
   "execution_count": null,
   "id": "2ed62081-c491-4919-8237-05960f163e18",
   "metadata": {
    "tags": []
   },
   "outputs": [],
   "source": [
    "#Explained variance score: 1 is perfect prediction\n",
    "print('Variance score: %.2f' % regr.score(x, y))"
   ]
  },
  {
   "cell_type": "code",
   "execution_count": null,
   "id": "a0f40d92-c443-4206-9539-092838765448",
   "metadata": {
    "tags": []
   },
   "outputs": [],
   "source": [
    "#visualize the comparison of actaul value of target variable values and predicted values\n",
    "plt.scatter(y, y_hat, color='b', label='Predicted', marker='o')  # Predicted values in blue\n",
    "plt.scatter(y, y, color='r', label='Actual', marker='x')  # Actual values in red\n",
    "plt.xlabel('Actual CO2 Emissions')\n",
    "plt.ylabel('Predicted CO2 Emissions')\n",
    "plt.title('Actual vs Predicted CO2 Emissions')\n",
    "plt.legend()\n",
    "plt.show()"
   ]
  }
 ],
 "metadata": {
  "kernelspec": {
   "display_name": "Python 3 (ipykernel)",
   "language": "python",
   "name": "python3"
  },
  "language_info": {
   "codemirror_mode": {
    "name": "ipython",
    "version": 3
   },
   "file_extension": ".py",
   "mimetype": "text/x-python",
   "name": "python",
   "nbconvert_exporter": "python",
   "pygments_lexer": "ipython3",
   "version": "3.11.5"
  }
 },
 "nbformat": 4,
 "nbformat_minor": 5
}
